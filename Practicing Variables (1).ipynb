{
 "cells": [
  {
   "cell_type": "markdown",
   "id": "5b20af98",
   "metadata": {},
   "source": [
    "# Practice your variables!\n",
    "Course: BBA 108-Essentials of Computing & Coding\n",
    "\n",
    "Submission date: Sunday (19/09/21), 11:59 p.m.\n",
    "\n",
    "Hey everyone! This is a practice bonus assignment worth 10 points. I **highly** encourage all of you to do this.\n",
    "\n",
    "Please contact the following **on Slack** if there are any questions or issues:\n",
    "\n",
    "- @Shourya Watwani \n",
    "- @Vanshika Raj \n",
    "- @Aryan Gupta \n",
    "\n",
    "Thank you! Happy coding :)\n"
   ]
  },
  {
   "cell_type": "code",
   "execution_count": 12,
   "id": "d7643d51",
   "metadata": {},
   "outputs": [
    {
     "data": {
      "text/plain": [
       "'vrutik_gala'"
      ]
     },
     "execution_count": 12,
     "metadata": {},
     "output_type": "execute_result"
    }
   ],
   "source": [
    "# My name\n",
    "\n",
    "my_name=\"vrutik_gala\"\n",
    "my_name"
   ]
  },
  {
   "cell_type": "code",
   "execution_count": 13,
   "id": "a48e84de",
   "metadata": {},
   "outputs": [
    {
     "data": {
      "text/plain": [
       "18"
      ]
     },
     "execution_count": 13,
     "metadata": {},
     "output_type": "execute_result"
    }
   ],
   "source": [
    "# My age \n",
    "\n",
    "my_age=18\n",
    "my_age"
   ]
  },
  {
   "cell_type": "code",
   "execution_count": 14,
   "id": "fb242ec5",
   "metadata": {},
   "outputs": [
    {
     "data": {
      "text/plain": [
       "15"
      ]
     },
     "execution_count": 14,
     "metadata": {},
     "output_type": "execute_result"
    }
   ],
   "source": [
    "# number of trips taken by me in india\n",
    "\n",
    "num_trips_in_india=15\n",
    "num_trips_in_india"
   ]
  },
  {
   "cell_type": "code",
   "execution_count": 15,
   "id": "ac849402",
   "metadata": {},
   "outputs": [
    {
     "data": {
      "text/plain": [
       "4"
      ]
     },
     "execution_count": 15,
     "metadata": {},
     "output_type": "execute_result"
    }
   ],
   "source": [
    "# number of trips outside india\n",
    "\n",
    "num_trips_outside_india=4\n",
    "num_trips_outside_india"
   ]
  },
  {
   "cell_type": "code",
   "execution_count": 16,
   "id": "bf7668ee",
   "metadata": {},
   "outputs": [
    {
     "data": {
      "text/plain": [
       "19"
      ]
     },
     "execution_count": 16,
     "metadata": {},
     "output_type": "execute_result"
    }
   ],
   "source": [
    "#total number of trips taken\n",
    "\n",
    "total_trips=(num_trips_in_india + num_trips_outside_india)\n",
    "total_trips"
   ]
  },
  {
   "cell_type": "code",
   "execution_count": 17,
   "id": "52224f94",
   "metadata": {},
   "outputs": [
    {
     "data": {
      "text/plain": [
       "'Total number of trips taken by me are '"
      ]
     },
     "execution_count": 17,
     "metadata": {},
     "output_type": "execute_result"
    }
   ],
   "source": [
    "# starting_phrase\n",
    "starting_phrase=\"Total number of trips taken by me are \"\n",
    "starting_phrase"
   ]
  },
  {
   "cell_type": "code",
   "execution_count": 18,
   "id": "2b0a3c02",
   "metadata": {},
   "outputs": [
    {
     "data": {
      "text/plain": [
       "'Total number of trips taken by me are 19'"
      ]
     },
     "execution_count": 18,
     "metadata": {},
     "output_type": "execute_result"
    }
   ],
   "source": [
    "# sentence\n",
    "sentence=(starting_phrase+str(total_trips))\n",
    "sentence"
   ]
  },
  {
   "cell_type": "code",
   "execution_count": 19,
   "id": "612c68f3",
   "metadata": {},
   "outputs": [
    {
     "data": {
      "text/plain": [
       "True"
      ]
     },
     "execution_count": 19,
     "metadata": {},
     "output_type": "execute_result"
    }
   ],
   "source": [
    "# I have taken more trips within India than outside India \n",
    "\n",
    "trips_in_india_are_more=num_trips_in_india>num_trips_outside_india\n",
    "trips_in_india_are_more\n",
    " "
   ]
  },
  {
   "cell_type": "code",
   "execution_count": 20,
   "id": "18a3e088",
   "metadata": {},
   "outputs": [
    {
     "data": {
      "text/plain": [
       "1.0555555555555556"
      ]
     },
     "execution_count": 20,
     "metadata": {},
     "output_type": "execute_result"
    }
   ],
   "source": [
    "# Average number of trips taken in a year\n",
    "average_trips_taken_in_a_year=(total_trips)/(my_age)\n",
    "average_trips_taken_in_a_year"
   ]
  },
  {
   "cell_type": "code",
   "execution_count": 23,
   "id": "810f16f4",
   "metadata": {},
   "outputs": [
    {
     "data": {
      "text/plain": [
       "'average trips taken in a year are '"
      ]
     },
     "execution_count": 23,
     "metadata": {},
     "output_type": "execute_result"
    }
   ],
   "source": [
    "# starting phrase\n",
    "starting_phrase=\"average trips taken in a year are \"\n",
    "starting_phrase"
   ]
  },
  {
   "cell_type": "code",
   "execution_count": 24,
   "id": "1b1807ff",
   "metadata": {},
   "outputs": [
    {
     "data": {
      "text/plain": [
       "'average trips taken in a year are 1.0555555555555556'"
      ]
     },
     "execution_count": 24,
     "metadata": {},
     "output_type": "execute_result"
    }
   ],
   "source": [
    "#sentence\n",
    "sentence=(starting_phrase+str(average_trips_taken_in_a_year))\n",
    "sentence"
   ]
  },
  {
   "cell_type": "code",
   "execution_count": null,
   "id": "54698f64",
   "metadata": {},
   "outputs": [],
   "source": []
  }
 ],
 "metadata": {
  "kernelspec": {
   "display_name": "Python 3",
   "language": "python",
   "name": "python3"
  },
  "language_info": {
   "codemirror_mode": {
    "name": "ipython",
    "version": 3
   },
   "file_extension": ".py",
   "mimetype": "text/x-python",
   "name": "python",
   "nbconvert_exporter": "python",
   "pygments_lexer": "ipython3",
   "version": "3.8.8"
  }
 },
 "nbformat": 4,
 "nbformat_minor": 5
}
